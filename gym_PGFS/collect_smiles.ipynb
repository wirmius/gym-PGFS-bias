{
 "cells": [
  {
   "cell_type": "markdown",
   "id": "235e1cbd",
   "metadata": {},
   "source": [
    "### Gather data from trained models"
   ]
  },
  {
   "cell_type": "code",
   "execution_count": 1,
   "id": "5a402709",
   "metadata": {},
   "outputs": [],
   "source": [
    "from gym_PGFS.config import load_config\n",
    "from gym_PGFS.envs.PGFS_trials import gym_PGFS_basic_from_config\n",
    "from gym_PGFS.valuation.comparison_vs_random import collect_smiles\n",
    "import pickle"
   ]
  },
  {
   "cell_type": "code",
   "execution_count": 2,
   "id": "334403b8",
   "metadata": {},
   "outputs": [
    {
     "data": {
      "text/plain": [
       "'/home/boto/chemPGFS/gymPGFS'"
      ]
     },
     "execution_count": 2,
     "metadata": {},
     "output_type": "execute_result"
    }
   ],
   "source": [
    "import os\n",
    "os.chdir('../')\n",
    "os.getcwd()"
   ]
  },
  {
   "cell_type": "code",
   "execution_count": 3,
   "id": "acc37d7f",
   "metadata": {},
   "outputs": [
    {
     "name": "stdout",
     "output_type": "stream",
     "text": [
      "Templates loaded from templates_processed.pkl\n",
      "Reactions loaded from reactions_processed.pkl\n",
      "Reactants loaded from reactants_processed.pkl\n",
      "Loaded checkpoint.\n"
     ]
    },
    {
     "name": "stderr",
     "output_type": "stream",
     "text": [
      "  0%|          | 0/51 [00:00<?, ?it/s]"
     ]
    },
    {
     "name": "stdout",
     "output_type": "stream",
     "text": [
      "ChemWorld <gym_PGFS.chemutils.ChemWorld object at 0x7ffa3d9cc950> has been deployed.\n",
      "Scanning directory ./data/run_A/agent_checkpoints for agent states...\n",
      "['agent_28000.state', 'agent_29000.state', 'agent_44000.state', 'agent_48000.state', 'agent_27000.state', 'agent_3000.state', 'agent_2000.state', 'agent_25000.state', 'agent_18000.state', 'agent_30000.state', 'agent_39000.state', 'agent_36000.state', 'agent_37000.state', 'agent_33000.state', 'agent_19000.state', 'agent_34000.state', 'agent_5000.state', 'agent_49000.state', 'agent_6000.state', 'agent_16000.state', 'agent_15000.state', 'agent_40000.state', 'agent_35000.state', 'agent_13000.state', 'agent_22000.state', 'agent_14000.state', 'agent_9000.state', 'agent_   0.state', 'agent_23000.state', 'agent_42000.state', 'agent_24000.state', 'agent_47000.state', 'agent_32000.state', 'agent_50000.state', 'agent_20000.state', 'agent_7000.state', 'agent_41000.state', 'agent_12000.state', 'agent_1000.state', 'agent_4000.state', 'agent_45000.state', 'agent_8000.state', 'agent_17000.state', 'agent_11000.state', 'agent_26000.state', 'agent_10000.state', 'agent_46000.state', 'agent_38000.state', 'agent_43000.state', 'agent_31000.state', 'agent_21000.state']\n"
     ]
    },
    {
     "name": "stderr",
     "output_type": "stream",
     "text": [
      "100%|██████████| 51/51 [1:57:42<00:00, 138.48s/it]  "
     ]
    },
    {
     "name": "stdout",
     "output_type": "stream",
     "text": [
      "Errors recorded: {}\n"
     ]
    },
    {
     "name": "stderr",
     "output_type": "stream",
     "text": [
      "\n"
     ]
    }
   ],
   "source": [
    "data_path = './data/run_A'\n",
    "conf = load_config(\"./gym_PGFS/configs/mgenfail_config_A.yaml\")  # \"./gym_PGFS/configs/config_server_default.yaml\"\n",
    "run_conf = conf['run']\n",
    "\n",
    "env = gym_PGFS_basic_from_config(data_path, conf)\n",
    "sample, errors = collect_smiles(env,\n",
    "                                './data/run_A/agent_checkpoints',\n",
    "                                run_config=run_conf,\n",
    "                                n_samples=100)\n",
    "with open('./data/run_A/smiles_collected.pkl', 'wb') as f:\n",
    "    pickle.dump(sample, f)"
   ]
  },
  {
   "cell_type": "code",
   "execution_count": 4,
   "id": "b4bc33d1",
   "metadata": {},
   "outputs": [
    {
     "name": "stdout",
     "output_type": "stream",
     "text": [
      "Templates loaded from templates_processed.pkl\n",
      "Reactions loaded from reactions_processed.pkl\n",
      "Reactants loaded from reactants_processed.pkl\n",
      "Loaded checkpoint.\n"
     ]
    },
    {
     "name": "stderr",
     "output_type": "stream",
     "text": [
      "  0%|          | 0/21 [00:00<?, ?it/s]"
     ]
    },
    {
     "name": "stdout",
     "output_type": "stream",
     "text": [
      "ChemWorld <gym_PGFS.chemutils.ChemWorld object at 0x7ffa3d9d4090> has been deployed.\n",
      "Scanning directory ./data/run_B/agent_checkpoints for agent states...\n",
      "['agent_3000.state', 'agent_2000.state', 'agent_18000.state', 'agent_19000.state', 'agent_5000.state', 'agent_6000.state', 'agent_16000.state', 'agent_15000.state', 'agent_13000.state', 'agent_14000.state', 'agent_9000.state', 'agent_   0.state', 'agent_20000.state', 'agent_7000.state', 'agent_12000.state', 'agent_1000.state', 'agent_4000.state', 'agent_8000.state', 'agent_17000.state', 'agent_11000.state', 'agent_10000.state']\n"
     ]
    },
    {
     "name": "stderr",
     "output_type": "stream",
     "text": [
      "100%|██████████| 21/21 [57:18<00:00, 163.73s/it]"
     ]
    },
    {
     "name": "stdout",
     "output_type": "stream",
     "text": [
      "Errors recorded: {}\n"
     ]
    },
    {
     "name": "stderr",
     "output_type": "stream",
     "text": [
      "\n"
     ]
    }
   ],
   "source": [
    "data_path = './data/run_B'\n",
    "conf = load_config(\"./gym_PGFS/configs/mgenfail_config_B.yaml\")  # \"./gym_PGFS/configs/config_server_default.yaml\"\n",
    "run_conf = conf['run']\n",
    "\n",
    "env = gym_PGFS_basic_from_config(data_path, conf)\n",
    "sample, errors = collect_smiles(env,\n",
    "                                './data/run_B/agent_checkpoints',\n",
    "                                run_config=run_conf,\n",
    "                                n_samples=100)\n",
    "with open('./data/run_B/smiles_collected.pkl', 'wb') as f:\n",
    "    pickle.dump(sample, f)"
   ]
  },
  {
   "cell_type": "code",
   "execution_count": 5,
   "id": "7a6e58c6",
   "metadata": {},
   "outputs": [
    {
     "name": "stdout",
     "output_type": "stream",
     "text": [
      "Templates loaded from templates_processed.pkl\n",
      "Reactions loaded from reactions_processed.pkl\n",
      "Reactants loaded from reactants_processed.pkl\n",
      "Loaded checkpoint.\n"
     ]
    },
    {
     "name": "stderr",
     "output_type": "stream",
     "text": [
      "  0%|          | 0/51 [00:00<?, ?it/s]"
     ]
    },
    {
     "name": "stdout",
     "output_type": "stream",
     "text": [
      "ChemWorld <gym_PGFS.chemutils.ChemWorld object at 0x7ffa3bb3a750> has been deployed.\n",
      "Scanning directory ./data/run_C/agent_checkpoints for agent states...\n",
      "['agent_28000.state', 'agent_29000.state', 'agent_44000.state', 'agent_48000.state', 'agent_27000.state', 'agent_3000.state', 'agent_2000.state', 'agent_25000.state', 'agent_18000.state', 'agent_30000.state', 'agent_39000.state', 'agent_36000.state', 'agent_37000.state', 'agent_33000.state', 'agent_19000.state', 'agent_34000.state', 'agent_5000.state', 'agent_49000.state', 'agent_6000.state', 'agent_16000.state', 'agent_15000.state', 'agent_40000.state', 'agent_35000.state', 'agent_13000.state', 'agent_22000.state', 'agent_14000.state', 'agent_9000.state', 'agent_   0.state', 'agent_23000.state', 'agent_42000.state', 'agent_24000.state', 'agent_47000.state', 'agent_32000.state', 'agent_50000.state', 'agent_20000.state', 'agent_7000.state', 'agent_41000.state', 'agent_12000.state', 'agent_1000.state', 'agent_4000.state', 'agent_45000.state', 'agent_8000.state', 'agent_17000.state', 'agent_11000.state', 'agent_26000.state', 'agent_10000.state', 'agent_46000.state', 'agent_38000.state', 'agent_43000.state', 'agent_31000.state', 'agent_21000.state']\n"
     ]
    },
    {
     "name": "stderr",
     "output_type": "stream",
     "text": [
      "100%|██████████| 51/51 [1:56:19<00:00, 136.86s/it]"
     ]
    },
    {
     "name": "stdout",
     "output_type": "stream",
     "text": [
      "Errors recorded: {}\n"
     ]
    },
    {
     "name": "stderr",
     "output_type": "stream",
     "text": [
      "\n"
     ]
    }
   ],
   "source": [
    "data_path = './data/run_C'\n",
    "conf = load_config(\"./gym_PGFS/configs/mgenfail_config_C.yaml\")  # \"./gym_PGFS/configs/config_server_default.yaml\"\n",
    "run_conf = conf['run']\n",
    "\n",
    "env = gym_PGFS_basic_from_config(data_path, conf)\n",
    "sample, errors = collect_smiles(env,\n",
    "                                './data/run_C/agent_checkpoints',\n",
    "                                run_config=run_conf,\n",
    "                                n_samples=100)\n",
    "with open('./data/run_C/smiles_collected.pkl', 'wb') as f:\n",
    "    pickle.dump(sample, f)"
   ]
  },
  {
   "cell_type": "code",
   "execution_count": null,
   "id": "6bd29169",
   "metadata": {},
   "outputs": [],
   "source": []
  }
 ],
 "metadata": {
  "kernelspec": {
   "display_name": "Python 3",
   "language": "python",
   "name": "python3"
  },
  "language_info": {
   "codemirror_mode": {
    "name": "ipython",
    "version": 3
   },
   "file_extension": ".py",
   "mimetype": "text/x-python",
   "name": "python",
   "nbconvert_exporter": "python",
   "pygments_lexer": "ipython3",
   "version": "3.7.10"
  }
 },
 "nbformat": 4,
 "nbformat_minor": 5
}
